{
 "cells": [
  {
   "cell_type": "code",
   "execution_count": 1,
   "metadata": {},
   "outputs": [],
   "source": [
    "import requests\n",
    "import json\n",
    "import config\n",
    "import recommender\n",
    "\n",
    "def get_posters_1(movie_title, recommendation):\n",
    "    url = f'http://www.omdbapi.com/?t='\n",
    "    api_key = config.api_key\n",
    "    movie_title_poster = requests.get(url + movie_title + api_key)\n",
    "    recommendation1_posters = []\n",
    "    for x in range(0,10):\n",
    "        response = requests.get(url + recommendation1[x][0:-7] + api_key)\n",
    "        data = response.json()\n",
    "        recommendation1_posters.append(data['Poster'])"
   ]
  },
  {
   "cell_type": "code",
   "execution_count": 8,
   "metadata": {},
   "outputs": [],
   "source": [
    "movie_title = 'Toy Story (1995)'\n",
    "movie_title = movie_title[0:-7]"
   ]
  },
  {
   "cell_type": "code",
   "execution_count": 9,
   "metadata": {},
   "outputs": [
    {
     "data": {
      "text/plain": [
       "'https://m.media-amazon.com/images/M/MV5BMDU2ZWJlMjktMTRhMy00ZTA5LWEzNDgtYmNmZTEwZTViZWJkXkEyXkFqcGdeQXVyNDQ2OTk4MzI@._V1_SX300.jpg'"
      ]
     },
     "execution_count": 9,
     "metadata": {},
     "output_type": "execute_result"
    }
   ],
   "source": [
    "url = f'http://www.omdbapi.com/?t='\n",
    "api_key = config.api_key\n",
    "response1 = requests.get(url + movie_title + api_key)\n",
    "data1 = response1.json()\n",
    "movie_title_poster = data1['Poster']\n",
    "movie_title_poster"
   ]
  },
  {
   "cell_type": "code",
   "execution_count": null,
   "metadata": {},
   "outputs": [],
   "source": [
    "\n",
    "recommendation1_posters=[]\n",
    "for x in range(0,10):\n",
    "        recommendation = recommendation[x][0:-7]\n",
    "        response = requests.get(url + recommendation + api_key)\n",
    "        data = response.json()\n",
    "        recommendation1_posters.append(data['Poster'])"
   ]
  }
 ],
 "metadata": {
  "kernelspec": {
   "display_name": "Python [conda env:PythonData] *",
   "language": "python",
   "name": "conda-env-PythonData-py"
  },
  "language_info": {
   "codemirror_mode": {
    "name": "ipython",
    "version": 3
   },
   "file_extension": ".py",
   "mimetype": "text/x-python",
   "name": "python",
   "nbconvert_exporter": "python",
   "pygments_lexer": "ipython3",
   "version": "3.8.5"
  }
 },
 "nbformat": 4,
 "nbformat_minor": 4
}
