{
 "cells": [
  {
   "cell_type": "code",
   "execution_count": 1,
   "metadata": {},
   "outputs": [],
   "source": [
    "%matplotlib inline\n",
    "import pandas as pd\n",
    "import numpy as np\n",
    "import matplotlib.pyplot as plt"
   ]
  },
  {
   "cell_type": "code",
   "execution_count": 2,
   "metadata": {},
   "outputs": [],
   "source": [
    "#Import movies csv\n",
    "movies_df = pd.read_csv('data/movies.csv')\n",
    "# movies_df.head()\n",
    "# len(movies_df)"
   ]
  },
  {
   "cell_type": "code",
   "execution_count": 3,
   "metadata": {},
   "outputs": [],
   "source": [
    "#Import ratings csv\n",
    "ratings_df = pd.read_csv('data/ratings.csv', parse_dates=['timestamp'])\n",
    "ratings_df = ratings_df.drop(columns=['timestamp'])\n",
    "# ratings_df.head()"
   ]
  },
  {
   "cell_type": "code",
   "execution_count": 11,
   "metadata": {},
   "outputs": [
    {
     "data": {
      "text/html": [
       "<div>\n",
       "<style scoped>\n",
       "    .dataframe tbody tr th:only-of-type {\n",
       "        vertical-align: middle;\n",
       "    }\n",
       "\n",
       "    .dataframe tbody tr th {\n",
       "        vertical-align: top;\n",
       "    }\n",
       "\n",
       "    .dataframe thead th {\n",
       "        text-align: right;\n",
       "    }\n",
       "</style>\n",
       "<table border=\"1\" class=\"dataframe\">\n",
       "  <thead>\n",
       "    <tr style=\"text-align: right;\">\n",
       "      <th></th>\n",
       "      <th>userId</th>\n",
       "      <th>movieId</th>\n",
       "      <th>rating</th>\n",
       "      <th>title</th>\n",
       "      <th>genres</th>\n",
       "    </tr>\n",
       "  </thead>\n",
       "  <tbody>\n",
       "    <tr>\n",
       "      <th>0</th>\n",
       "      <td>2.0</td>\n",
       "      <td>1</td>\n",
       "      <td>5.0</td>\n",
       "      <td>Toy Story (1995)</td>\n",
       "      <td>Adventure|Animation|Children|Comedy|Fantasy</td>\n",
       "    </tr>\n",
       "    <tr>\n",
       "      <th>1</th>\n",
       "      <td>5.0</td>\n",
       "      <td>1</td>\n",
       "      <td>4.0</td>\n",
       "      <td>Toy Story (1995)</td>\n",
       "      <td>Adventure|Animation|Children|Comedy|Fantasy</td>\n",
       "    </tr>\n",
       "    <tr>\n",
       "      <th>2</th>\n",
       "      <td>8.0</td>\n",
       "      <td>1</td>\n",
       "      <td>5.0</td>\n",
       "      <td>Toy Story (1995)</td>\n",
       "      <td>Adventure|Animation|Children|Comedy|Fantasy</td>\n",
       "    </tr>\n",
       "    <tr>\n",
       "      <th>3</th>\n",
       "      <td>11.0</td>\n",
       "      <td>1</td>\n",
       "      <td>4.0</td>\n",
       "      <td>Toy Story (1995)</td>\n",
       "      <td>Adventure|Animation|Children|Comedy|Fantasy</td>\n",
       "    </tr>\n",
       "    <tr>\n",
       "      <th>4</th>\n",
       "      <td>14.0</td>\n",
       "      <td>1</td>\n",
       "      <td>4.0</td>\n",
       "      <td>Toy Story (1995)</td>\n",
       "      <td>Adventure|Animation|Children|Comedy|Fantasy</td>\n",
       "    </tr>\n",
       "    <tr>\n",
       "      <th>...</th>\n",
       "      <td>...</td>\n",
       "      <td>...</td>\n",
       "      <td>...</td>\n",
       "      <td>...</td>\n",
       "      <td>...</td>\n",
       "    </tr>\n",
       "    <tr>\n",
       "      <th>105338</th>\n",
       "      <td>475.0</td>\n",
       "      <td>148238</td>\n",
       "      <td>3.0</td>\n",
       "      <td>A Very Murray Christmas (2015)</td>\n",
       "      <td>Comedy</td>\n",
       "    </tr>\n",
       "    <tr>\n",
       "      <th>105339</th>\n",
       "      <td>458.0</td>\n",
       "      <td>148626</td>\n",
       "      <td>4.0</td>\n",
       "      <td>The Big Short (2015)</td>\n",
       "      <td>Drama</td>\n",
       "    </tr>\n",
       "    <tr>\n",
       "      <th>105340</th>\n",
       "      <td>576.0</td>\n",
       "      <td>148626</td>\n",
       "      <td>4.5</td>\n",
       "      <td>The Big Short (2015)</td>\n",
       "      <td>Drama</td>\n",
       "    </tr>\n",
       "    <tr>\n",
       "      <th>105341</th>\n",
       "      <td>668.0</td>\n",
       "      <td>148626</td>\n",
       "      <td>4.5</td>\n",
       "      <td>The Big Short (2015)</td>\n",
       "      <td>Drama</td>\n",
       "    </tr>\n",
       "    <tr>\n",
       "      <th>105342</th>\n",
       "      <td>475.0</td>\n",
       "      <td>149532</td>\n",
       "      <td>4.0</td>\n",
       "      <td>Marco Polo: One Hundred Eyes (2015)</td>\n",
       "      <td>(no genres listed)</td>\n",
       "    </tr>\n",
       "  </tbody>\n",
       "</table>\n",
       "<p>105343 rows × 5 columns</p>\n",
       "</div>"
      ],
      "text/plain": [
       "        userId  movieId  rating                                title  \\\n",
       "0          2.0        1     5.0                     Toy Story (1995)   \n",
       "1          5.0        1     4.0                     Toy Story (1995)   \n",
       "2          8.0        1     5.0                     Toy Story (1995)   \n",
       "3         11.0        1     4.0                     Toy Story (1995)   \n",
       "4         14.0        1     4.0                     Toy Story (1995)   \n",
       "...        ...      ...     ...                                  ...   \n",
       "105338   475.0   148238     3.0       A Very Murray Christmas (2015)   \n",
       "105339   458.0   148626     4.0                 The Big Short (2015)   \n",
       "105340   576.0   148626     4.5                 The Big Short (2015)   \n",
       "105341   668.0   148626     4.5                 The Big Short (2015)   \n",
       "105342   475.0   149532     4.0  Marco Polo: One Hundred Eyes (2015)   \n",
       "\n",
       "                                             genres  \n",
       "0       Adventure|Animation|Children|Comedy|Fantasy  \n",
       "1       Adventure|Animation|Children|Comedy|Fantasy  \n",
       "2       Adventure|Animation|Children|Comedy|Fantasy  \n",
       "3       Adventure|Animation|Children|Comedy|Fantasy  \n",
       "4       Adventure|Animation|Children|Comedy|Fantasy  \n",
       "...                                             ...  \n",
       "105338                                       Comedy  \n",
       "105339                                        Drama  \n",
       "105340                                        Drama  \n",
       "105341                                        Drama  \n",
       "105342                           (no genres listed)  \n",
       "\n",
       "[105343 rows x 5 columns]"
      ]
     },
     "execution_count": 11,
     "metadata": {},
     "output_type": "execute_result"
    }
   ],
   "source": [
    "#Combine 'movies' and 'ratings' dataframes and drop timestamp column\n",
    "combined_df = pd.merge(ratings_df, movies_df, how='right', on='movieId')\n",
    "# combined_df = combined_df.drop(columns=['timestamp'])\n",
    "combined_df"
   ]
  },
  {
   "cell_type": "code",
   "execution_count": 5,
   "metadata": {},
   "outputs": [],
   "source": [
    "#Extract a list of individual genres from 'genres' column in df\n",
    "genres_list = []\n",
    "unique_genres = []\n",
    "for genre in combined_df.genres.unique():\n",
    "    genres_list.append(genre)\n",
    "for x in range(len(genres_list)):\n",
    "    genres_list[x] = genres_list[x].split('|')\n",
    "for x in genres_list:\n",
    "    for genre in x:\n",
    "        if genre not in unique_genres:\n",
    "            unique_genres.append(genre)\n",
    "# unique_genres"
   ]
  },
  {
   "cell_type": "code",
   "execution_count": 6,
   "metadata": {},
   "outputs": [],
   "source": [
    "all_genres = []\n",
    "for x in movies_df['genres']:\n",
    "    all_genres.append(x)\n",
    "# all_genres"
   ]
  },
  {
   "cell_type": "code",
   "execution_count": 7,
   "metadata": {},
   "outputs": [],
   "source": [
    "from sklearn.feature_extraction.text import TfidfVectorizer\n",
    "tfidf_model = TfidfVectorizer(analyzer='word',stop_words='english')\n",
    "tfidf_values = tfidf_model.fit_transform(movies_df['genres'])\n",
    "# tfidf_values.shape"
   ]
  },
  {
   "cell_type": "code",
   "execution_count": 8,
   "metadata": {},
   "outputs": [],
   "source": [
    "from sklearn.metrics.pairwise import linear_kernel\n",
    "cosine_sim = linear_kernel(tfidf_values, tfidf_values)\n",
    "# cosine_sim.shape"
   ]
  },
  {
   "cell_type": "code",
   "execution_count": 9,
   "metadata": {},
   "outputs": [],
   "source": [
    "movie_titles = np.array(movies_df['title'])\n",
    "def recommendation_engine_1(movie_title):\n",
    "    for x in range(len(movie_titles)):\n",
    "        if movie_titles[x] == movie_title:\n",
    "            index = x\n",
    "            similarity = list(enumerate(cosine_sim[index]))\n",
    "    similarity = sorted(similarity, key=lambda x: x[1], reverse=True)\n",
    "    similarity = similarity[1:11]\n",
    "    movie_indices = [i[0] for i in similarity]\n",
    "    return movie_titles[movie_indices] "
   ]
  },
  {
   "cell_type": "code",
   "execution_count": 10,
   "metadata": {},
   "outputs": [
    {
     "name": "stdout",
     "output_type": "stream",
     "text": [
      "Because you liked Jumanji, we recommend the following movies: \n",
      "['Indian in the Cupboard, The (1995)' 'NeverEnding Story III, The (1994)'\n",
      " 'Escape to Witch Mountain (1975)'\n",
      " \"Darby O'Gill and the Little People (1959)\" 'Return to Oz (1985)'\n",
      " 'NeverEnding Story, The (1984)'\n",
      " 'NeverEnding Story II: The Next Chapter, The (1990)'\n",
      " 'Santa Claus: The Movie (1985)'\n",
      " \"Harry Potter and the Sorcerer's Stone (a.k.a. Harry Potter and the Philosopher's Stone) (2001)\"\n",
      " 'Magic in the Water (1995)']\n"
     ]
    }
   ],
   "source": [
    "print(f\"Because you liked Jumanji, we recommend the following movies: \\n{recommendation_engine_1('Jumanji (1995)')}\")"
   ]
  },
  {
   "cell_type": "code",
   "execution_count": 11,
   "metadata": {},
   "outputs": [],
   "source": [
    "#Turn df into matrix with users as rows and movies as columns\n",
    "collab_df = ratings_df.pivot(index = 'userId', columns ='movieId', values = 'rating').fillna(0)\n",
    "collab_matrix = collab_df.to_numpy()\n",
    "# print(collab_matrix)\n",
    "#Normalize data\n",
    "user_ratings_mean = np.mean(collab_matrix, axis = 1)\n",
    "normalized_matrix = collab_matrix - user_ratings_mean.reshape(-1, 1)\n",
    "# normalized_matrix"
   ]
  },
  {
   "cell_type": "code",
   "execution_count": 24,
   "metadata": {},
   "outputs": [],
   "source": [
    "from scipy.sparse.linalg import svds\n",
    "U, sigma, Vt = svds(normalized_matrix, k = 200)\n",
    "sigma = np.diag(sigma)\n",
    "all_user_predicted_ratings = np.dot(np.dot(U, sigma), Vt) + user_ratings_mean.reshape(-1, 1)\n",
    "full_predictions_df = pd.DataFrame(all_user_predicted_ratings, columns = collab_df.columns)\n",
    "# full_predictions_df"
   ]
  },
  {
   "cell_type": "code",
   "execution_count": 84,
   "metadata": {},
   "outputs": [],
   "source": [
    "def recommendation_engine_2(full_predictions_df, userId, movies_df, ratings_df):\n",
    "    \n",
    "    user_predictions_df = full_predictions_df.iloc[userId - 1].sort_values(ascending=False)\n",
    "    user_ratings_df = ratings_df[ratings_df.userId == (userId)]\n",
    "    user_full = (user_ratings_df.merge(movies_df, how = 'left', left_on = 'movieId', right_on = 'movieId').\n",
    "                     sort_values(['rating'], ascending=False))\n",
    "    top_rated_movies = user_full['title'].to_list()\n",
    "    recommended_movie_ids = user_predictions_df.index\n",
    "    already_rated_ids = user_ratings_df['movieId'].to_list()\n",
    "    final_recommendations = []\n",
    "    for x in recommended_movie_ids:\n",
    "        if x not in already_rated_ids:\n",
    "            final_recommendations.append(movies_df.loc[movies_df['movieId']==x]['title'])\n",
    "    \n",
    "    return f\"UserID {userId} \",top_rated_movies[0:10], final_recommendations[0:5]"
   ]
  },
  {
   "cell_type": "code",
   "execution_count": 86,
   "metadata": {},
   "outputs": [],
   "source": [
    "from numpy import random\n",
    "random_user = np.random.randint(0,high=668)\n",
    "# recommendation_engine_2(full_predictions_df, 501, movies_df, ratings_df)"
   ]
  },
  {
   "cell_type": "code",
   "execution_count": null,
   "metadata": {},
   "outputs": [],
   "source": [
    "X = ratings_df[['userId','movieId']]\n",
    "y = ratings_df[['rating']]\n",
    "# print(X)\n",
    "# print(y)"
   ]
  },
  {
   "cell_type": "code",
   "execution_count": null,
   "metadata": {},
   "outputs": [],
   "source": [
    "from sklearn.model_selection import train_test_split\n",
    "from sklearn.neighbors import KNeighborsClassifier"
   ]
  },
  {
   "cell_type": "code",
   "execution_count": null,
   "metadata": {},
   "outputs": [],
   "source": [
    "X_train, X_test, y_train, y_test = train_test_split(X,y)"
   ]
  },
  {
   "cell_type": "code",
   "execution_count": null,
   "metadata": {},
   "outputs": [],
   "source": []
  }
 ],
 "metadata": {
  "kernelspec": {
   "display_name": "Python [conda env:PythonData] *",
   "language": "python",
   "name": "conda-env-PythonData-py"
  },
  "language_info": {
   "codemirror_mode": {
    "name": "ipython",
    "version": 3
   },
   "file_extension": ".py",
   "mimetype": "text/x-python",
   "name": "python",
   "nbconvert_exporter": "python",
   "pygments_lexer": "ipython3",
   "version": "3.8.5"
  }
 },
 "nbformat": 4,
 "nbformat_minor": 4
}
